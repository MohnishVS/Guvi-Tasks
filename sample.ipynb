{
 "metadata": {
  "language_info": {
   "codemirror_mode": {
    "name": "ipython",
    "version": 3
   },
   "file_extension": ".py",
   "mimetype": "text/x-python",
   "name": "python",
   "nbconvert_exporter": "python",
   "pygments_lexer": "ipython3",
   "version": "3.7.7-final"
  },
  "orig_nbformat": 2,
  "kernelspec": {
   "name": "python37764bit7e2154dd19fe49c6b4a94df59017c349",
   "display_name": "Python 3.7.7 64-bit"
  }
 },
 "nbformat": 4,
 "nbformat_minor": 2,
 "cells": [
  {
   "cell_type": "code",
   "execution_count": 8,
   "metadata": {},
   "outputs": [],
   "source": [
    "h='hi'"
   ]
  },
  {
   "cell_type": "code",
   "execution_count": 9,
   "metadata": {
    "tags": []
   },
   "outputs": [
    {
     "output_type": "stream",
     "name": "stdout",
     "text": "hello hi\n"
    }
   ],
   "source": [
    "print('hello',h)"
   ]
  },
  {
   "cell_type": "code",
   "execution_count": 10,
   "metadata": {},
   "outputs": [],
   "source": [
    "a=str('xasaphone')\n",
    "def split(word): \n",
    "    return list(word) \n",
    "a=split(a)\n",
    "h=split(h)"
   ]
  },
  {
   "cell_type": "code",
   "execution_count": 11,
   "metadata": {
    "tags": []
   },
   "outputs": [
    {
     "output_type": "stream",
     "name": "stdout",
     "text": "['x', 'a', 's', 'a', 'p', 'h', 'o', 'n', 'e'] ['h', 'i']\n"
    }
   ],
   "source": [
    "print(a,h)"
   ]
  },
  {
   "cell_type": "code",
   "execution_count": 12,
   "metadata": {
    "tags": []
   },
   "outputs": [
    {
     "output_type": "stream",
     "name": "stdout",
     "text": "109111110105115104 monish\n"
    }
   ],
   "source": [
    "pss=input(\"enter the password to hash:\")\n",
    "hsh=\"\"\n",
    "for i in pss:\n",
    "    hsh=hsh+str(ord(i))\n",
    "print(hsh,pss)\n"
   ]
  },
  {
   "cell_type": "code",
   "execution_count": 17,
   "metadata": {
    "tags": []
   },
   "outputs": [
    {
     "output_type": "stream",
     "name": "stdout",
     "text": "eligible\n"
    }
   ],
   "source": [
    "age=int(input('enter the age:'))\n",
    "if age>=18:\n",
    "    print('eligible')\n",
    "else:\n",
    "    print('done')"
   ]
  },
  {
   "cell_type": "code",
   "execution_count": 23,
   "metadata": {
    "tags": []
   },
   "outputs": [
    {
     "output_type": "stream",
     "name": "stdout",
     "text": "f not a voweel\n"
    }
   ],
   "source": [
    "v='aeiouAEIOU'\n",
    "ch=input('enter char')\n",
    "if ch in v:\n",
    "    print(f'{ch} is a vowel')\n",
    "else:\n",
    "    print(f'{ch} not a voweel')"
   ]
  },
  {
   "cell_type": "code",
   "execution_count": 26,
   "metadata": {
    "tags": []
   },
   "outputs": [
    {
     "output_type": "stream",
     "name": "stdout",
     "text": "12 34 4\n34 is biggest\n"
    }
   ],
   "source": [
    "a,b,c=map(int,input('enter the numbers').split())\n",
    "print(a,b,c)\n",
    "if a>b and a>c:\n",
    "    print(f'{a} is biggest')\n",
    "elif b>c:\n",
    "    print(f'{b} is biggest')\n",
    "else:\n",
    "    print(f'{c} is biggest')"
   ]
  },
  {
   "cell_type": "code",
   "execution_count": 34,
   "metadata": {
    "tags": []
   },
   "outputs": [
    {
     "output_type": "stream",
     "name": "stdout",
     "text": "not divisible\n"
    }
   ],
   "source": [
    "a=int(input('enter numbers'))\n",
    "print(a)\n",
    "if a%3==0 and a%5==0:\n",
    "    print('fungun')\n",
    "elif a%5==0:\n",
    "    print('gun')\n",
    "elif a%3==0 :\n",
    "    print('fun')\n",
    "else:\n",
    "    print('not divisible')"
   ]
  },
  {
   "cell_type": "code",
   "execution_count": 36,
   "metadata": {
    "tags": []
   },
   "outputs": [
    {
     "output_type": "stream",
     "name": "stdout",
     "text": "6 is divisible\n"
    }
   ],
   "source": [
    "a=int(input('enter numbers'))\n",
    "print(f'{a} is divisible') if a%3==0 else print('not divisible')"
   ]
  },
  {
   "cell_type": "code",
   "execution_count": null,
   "metadata": {},
   "outputs": [],
   "source": []
  }
 ]
}